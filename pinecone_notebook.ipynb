{
 "cells": [
  {
   "cell_type": "code",
   "execution_count": 32,
   "metadata": {},
   "outputs": [],
   "source": [
    "import os\n",
    "\n",
    "from dotenv import load_dotenv\n",
    "from langchain.text_splitter import RecursiveCharacterTextSplitter\n",
    "from langchain_community.document_loaders import WikipediaLoader\n",
    "from langchain_openai import OpenAIEmbeddings\n",
    "from langchain_pinecone import Pinecone"
   ]
  },
  {
   "cell_type": "code",
   "execution_count": 33,
   "metadata": {},
   "outputs": [
    {
     "name": "stderr",
     "output_type": "stream",
     "text": [
      "100%|██████████| 1/1 [00:00<00:00,  1.94it/s]\n"
     ]
    },
    {
     "data": {
      "text/plain": [
       "(5, 1536)"
      ]
     },
     "execution_count": 33,
     "metadata": {},
     "output_type": "execute_result"
    }
   ],
   "source": [
    "from pinecone_connector import PineconeConnector\n",
    "\n",
    "embeddings = OpenAIEmbeddings(model=\"text-embedding-3-small\", show_progress_bar=True)\n",
    "\n",
    "_embeddings = embeddings.embed_documents(\n",
    "    [\n",
    "        \"Hi there!\",\n",
    "        \"Oh, hello!\",\n",
    "        \"What's your name?\",\n",
    "        \"My friends call me World\",\n",
    "        \"Hello World!\",\n",
    "    ]\n",
    ")\n",
    "len(_embeddings), len(_embeddings[0])"
   ]
  },
  {
   "cell_type": "code",
   "execution_count": 34,
   "metadata": {},
   "outputs": [],
   "source": [
    "load_dotenv()\n",
    "\n",
    "OPENAI_API_KEY = os.getenv(\"OPENAI_API_KEY\")\n",
    "PINECONE_API_KEY = os.getenv(\"PINECONE_API_KEY\")\n",
    "PINECONE_ENV = os.getenv(\"PINECONE_ENV\")\n",
    "pinecone = PineconeConnector(\n",
    "    embeddings\n",
    ")  # Used for management and specific Pincone functionality\n",
    "\n",
    "# vars(pinecone)"
   ]
  },
  {
   "cell_type": "code",
   "execution_count": 50,
   "metadata": {},
   "outputs": [
    {
     "data": {
      "text/plain": [
       "True"
      ]
     },
     "execution_count": 50,
     "metadata": {},
     "output_type": "execute_result"
    }
   ],
   "source": [
    "# Create index. Name cannot contain capitals and choose between Serverless or Pod for server_type.\n",
    "pinecone.create_index(\n",
    "    \"testindex\",\n",
    "    server_type=\"serverless\",\n",
    ")\n"
   ]
  },
  {
   "cell_type": "code",
   "execution_count": 51,
   "metadata": {},
   "outputs": [
    {
     "data": {
      "text/plain": [
       "True"
      ]
     },
     "execution_count": 51,
     "metadata": {},
     "output_type": "execute_result"
    }
   ],
   "source": [
    "# Create index. Traditional Pod Build\n",
    "pinecone.create_index(\n",
    "    \"myfirstpod\",\n",
    "    metric=\"dotproduct\",\n",
    "    server_type=\"pod\",\n",
    "    environment=\"us-east1-gcp\")"
   ]
  },
  {
   "cell_type": "code",
   "execution_count": 44,
   "metadata": {},
   "outputs": [],
   "source": [
    "\n",
    "# Once Pinecone index has been created, then create LC vectorsore instance\n",
    "vectorstore1 = Pinecone(\n",
    "    index_name=\"testindex\",\n",
    "    embedding=embeddings,\n",
    "    pinecone_api_key=pinecone.PINECONE_API_KEY,\n",
    ")\n",
    "vectorstore2 = Pinecone(\n",
    "    index_name=\"myfirstpod\",\n",
    "    embedding=embeddings,\n",
    "    pinecone_api_key=pinecone.PINECONE_API_KEY,\n",
    ")"
   ]
  },
  {
   "cell_type": "code",
   "execution_count": 53,
   "metadata": {},
   "outputs": [
    {
     "data": {
      "text/plain": [
       "[{'dimension': 1536,\n",
       "  'host': 'myfirstpod-fc416ad.svc.us-east1-gcp.pinecone.io',\n",
       "  'metric': 'dotproduct',\n",
       "  'name': 'myfirstpod',\n",
       "  'spec': {'pod': {'environment': 'us-east1-gcp',\n",
       "                   'pod_type': 'p1.x1',\n",
       "                   'pods': 1,\n",
       "                   'replicas': 1,\n",
       "                   'shards': 1}},\n",
       "  'status': {'ready': True, 'state': 'Ready'}},\n",
       " {'dimension': 1536,\n",
       "  'host': 'testindex-fc416ad.svc.apw5-4e34-81fa.pinecone.io',\n",
       "  'metric': 'cosine',\n",
       "  'name': 'testindex',\n",
       "  'spec': {'serverless': {'cloud': 'aws', 'region': 'us-west-2'}},\n",
       "  'status': {'ready': True, 'state': 'Ready'}}]"
      ]
     },
     "execution_count": 53,
     "metadata": {},
     "output_type": "execute_result"
    }
   ],
   "source": [
    "# List all indexes in the project\n",
    "pinecone.list_index()"
   ]
  },
  {
   "cell_type": "code",
   "execution_count": 54,
   "metadata": {},
   "outputs": [
    {
     "data": {
      "text/plain": [
       "{'dimension': 1536,\n",
       " 'host': 'testindex-fc416ad.svc.apw5-4e34-81fa.pinecone.io',\n",
       " 'metric': 'cosine',\n",
       " 'name': 'testindex',\n",
       " 'spec': {'serverless': {'cloud': 'aws', 'region': 'us-west-2'}},\n",
       " 'status': {'ready': True, 'state': 'Ready'}}"
      ]
     },
     "execution_count": 54,
     "metadata": {},
     "output_type": "execute_result"
    }
   ],
   "source": [
    "# Describe an index by name\n",
    "pinecone.describe_index(\"testindex\")"
   ]
  },
  {
   "cell_type": "code",
   "execution_count": 57,
   "metadata": {},
   "outputs": [
    {
     "name": "stdout",
     "output_type": "stream",
     "text": [
      "{'dimension': 1536,\n",
      " 'index_fullness': 0.0,\n",
      " 'namespaces': {'sao': {'vector_count': 54}},\n",
      " 'total_vector_count': 54}\n",
      "{'dimension': 1536,\n",
      " 'index_fullness': 0.0,\n",
      " 'namespaces': {'hxh': {'vector_count': 54}},\n",
      " 'total_vector_count': 54}\n"
     ]
    }
   ],
   "source": [
    "# Provides data about indexes like total vector count, fullness, namespace\n",
    "output1 = pinecone.describe_index_stats(\"testindex\")\n",
    "output2 = pinecone.describe_index_stats(\"myfirstpod\")\n",
    "\n",
    "print(output1)\n",
    "print(output2)"
   ]
  },
  {
   "cell_type": "code",
   "execution_count": null,
   "metadata": {},
   "outputs": [],
   "source": [
    "# Delete the index\n",
    "pinecone.delete_index(\"testindex\", 10)\n"
   ]
  },
  {
   "cell_type": "code",
   "execution_count": 49,
   "metadata": {},
   "outputs": [],
   "source": [
    "# Delete the index\n",
    "pinecone.delete_index(\"myfirstpod\")"
   ]
  },
  {
   "cell_type": "code",
   "execution_count": 58,
   "metadata": {},
   "outputs": [
    {
     "data": {
      "text/plain": [
       "'Pinceconnector(embeddings={self.embeddings!r}, OPENAI_API_KEY={self.OPENAI_API_KEY!r}, PINECONE_API_KEY={self.PINECONE_API_KEY!r}, PINECONE_ENV={self.PINECONE_ENV!r})'"
      ]
     },
     "execution_count": 58,
     "metadata": {},
     "output_type": "execute_result"
    }
   ],
   "source": [
    "# Call `__repr__` method\n",
    "repr(pinecone)"
   ]
  },
  {
   "cell_type": "code",
   "execution_count": 43,
   "metadata": {},
   "outputs": [],
   "source": [
    "# Load Documents from Wikipedia and splitt int Document objects\n",
    "document = WikipediaLoader(query=\"HUNTER X HUNTER\", load_max_docs=2).load()\n",
    "\n",
    "document2 = WikipediaLoader(query=\"Sword Art Online\", load_max_docs=2).load()\n",
    "\n",
    "text_splitter = RecursiveCharacterTextSplitter(\n",
    "    # Set a really small chunk size, just to show.\n",
    "    chunk_size=100,\n",
    "    chunk_overlap=20,\n",
    "    length_function=len,\n",
    "    is_separator_regex=False,\n",
    ")\n",
    "\n",
    "documents = text_splitter.create_documents(texts=[document[0].page_content], metadatas=[document[0].metadata])\n",
    "documents2 = text_splitter.create_documents(\n",
    "    texts=[document2[0].page_content], metadatas=[document2[0].metadata]\n",
    ")\n"
   ]
  },
  {
   "cell_type": "code",
   "execution_count": 52,
   "metadata": {},
   "outputs": [
    {
     "name": "stderr",
     "output_type": "stream",
     "text": [
      "  0%|          | 0/1 [00:00<?, ?it/s]"
     ]
    },
    {
     "name": "stderr",
     "output_type": "stream",
     "text": [
      "100%|██████████| 1/1 [00:00<00:00,  1.54it/s]\n",
      "100%|██████████| 1/1 [00:00<00:00,  1.39it/s]\n"
     ]
    }
   ],
   "source": [
    "# Adds list of Document Objects (Note, wraps add_text method which is more grannular and has more options) Using the namespace logically divide the index.\n",
    "id1 = vectorstore1.add_documents(documents, namespace=\"sao\")\n",
    "id2 = vectorstore2.add_documents(documents2, namespace=\"hxh\")"
   ]
  },
  {
   "cell_type": "code",
   "execution_count": null,
   "metadata": {},
   "outputs": [],
   "source": [
    "# Basic Similarity Search\n",
    "docsearch_basic = vectorstore1.similarity_search(\"anime\")\n",
    "docsearch_basic"
   ]
  },
  {
   "cell_type": "code",
   "execution_count": null,
   "metadata": {},
   "outputs": [],
   "source": [
    "# Search with Score \n",
    "# Return pinecone documents most similar to query, along with scores.\n",
    "docsearch_score = vectorstore1.similarity_search_with_score(\"anime\")\n",
    "docsearch_score"
   ]
  },
  {
   "cell_type": "code",
   "execution_count": null,
   "metadata": {},
   "outputs": [],
   "source": [
    "search_relevance_score = vectorstore2.similarity_search_with_relevance_scores(\"What is HunterXHunter?\")\n",
    "search_relevance_score"
   ]
  },
  {
   "cell_type": "code",
   "execution_count": null,
   "metadata": {},
   "outputs": [],
   "source": [
    "# Return VectorStoreRetriever initialized from this VectorStore.\n",
    "retriever = vectorstore1.as_retriever(search_type = \"mmr\", search_kwargs = {\"lambda_mult\": 0.75})\n",
    "# retriever = vectorstore1.as_retriever(search_type = \"similarity\",search_kwargs={\"k\":1})\n",
    "output = retriever.invoke(\"What is hunter x hunter?\")\n",
    "output"
   ]
  },
  {
   "cell_type": "code",
   "execution_count": null,
   "metadata": {},
   "outputs": [],
   "source": []
  }
 ],
 "metadata": {
  "kernelspec": {
   "display_name": "rag_testing_py3.11.7",
   "language": "python",
   "name": "python3"
  },
  "language_info": {
   "codemirror_mode": {
    "name": "ipython",
    "version": 3
   },
   "file_extension": ".py",
   "mimetype": "text/x-python",
   "name": "python",
   "nbconvert_exporter": "python",
   "pygments_lexer": "ipython3",
   "version": "3.11.7"
  }
 },
 "nbformat": 4,
 "nbformat_minor": 2
}
