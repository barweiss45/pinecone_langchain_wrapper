{
 "cells": [
  {
   "cell_type": "code",
   "execution_count": null,
   "metadata": {},
   "outputs": [],
   "source": [
    "import os\n",
    "\n",
    "from dotenv import load_dotenv\n",
    "from langchain.text_splitter import RecursiveCharacterTextSplitter\n",
    "from langchain_community.document_loaders import WikipediaLoader\n",
    "from langchain_openai import OpenAIEmbeddings\n",
    "from langchain_pinecone import Pinecone\n",
    "from schema import *"
   ]
  },
  {
   "cell_type": "code",
   "execution_count": null,
   "metadata": {},
   "outputs": [],
   "source": [
    "from pinecone_connector import PineconeConnector\n",
    "\n",
    "embeddings = OpenAIEmbeddings(model=\"text-embedding-3-small\", show_progress_bar=True)\n",
    "\n",
    "_embeddings = embeddings.embed_documents(\n",
    "    [\n",
    "        \"Hi there!\",\n",
    "        \"Oh, hello!\",\n",
    "        \"What's your name?\",\n",
    "        \"My friends call me World\",\n",
    "        \"Hello World!\",\n",
    "    ]\n",
    ")\n",
    "len(_embeddings), len(_embeddings[0])"
   ]
  },
  {
   "cell_type": "code",
   "execution_count": null,
   "metadata": {},
   "outputs": [],
   "source": [
    "load_dotenv()\n",
    "\n",
    "OPENAI_API_KEY = os.getenv(\"OPENAI_API_KEY\")\n",
    "PINECONE_API_KEY = os.getenv(\"PINECONE_API_KEY\")\n",
    "PINECONE_ENV = os.getenv(\"PINECONE_ENV\")\n",
    "pinecone = PineconeConnector(\n",
    "    embeddings\n",
    ")  # Used for management and specific Pincone functionality\n",
    "\n",
    "# vars(pinecone)"
   ]
  },
  {
   "cell_type": "code",
   "execution_count": null,
   "metadata": {},
   "outputs": [],
   "source": [
    "# Create index. Name cannot contain capitals and choose between Serverless or Pod for server_type.\n",
    "pinecone.create_index(\n",
    "    \"testindex\",\n",
    "    server_type=\"serverless\",\n",
    ")"
   ]
  },
  {
   "cell_type": "code",
   "execution_count": null,
   "metadata": {},
   "outputs": [],
   "source": [
    "# Create index. Traditional Pod Build\n",
    "pinecone.create_index(\n",
    "    \"myfirstpod\", metric=\"dotproduct\", server_type=\"pod\", environment=\"us-east1-gcp\"\n",
    ")"
   ]
  },
  {
   "cell_type": "code",
   "execution_count": null,
   "metadata": {},
   "outputs": [],
   "source": [
    "# Once Pinecone index has been created, then create LC vectorsore instance\n",
    "vectorstore1 = Pinecone(\n",
    "    index_name=\"testindex\",\n",
    "    embedding=embeddings,\n",
    "    pinecone_api_key=pinecone.PINECONE_API_KEY,\n",
    ")\n",
    "# vectorstore2 = Pinecone(\n",
    "#     index_name=\"myfirstpod\",\n",
    "#     embedding=embeddings,\n",
    "#     pinecone_api_key=pinecone.PINECONE_API_KEY,\n",
    "# )"
   ]
  },
  {
   "cell_type": "code",
   "execution_count": null,
   "metadata": {},
   "outputs": [],
   "source": [
    "from pprint import pprint\n",
    "\n",
    "# List all indexes in the project\n",
    "indexes = pinecone.list_index()\n",
    "\n",
    "pprint(type(indexes))\n",
    "indexes"
   ]
  },
  {
   "cell_type": "code",
   "execution_count": null,
   "metadata": {},
   "outputs": [],
   "source": [
    "# Describe an index by name\n",
    "pinecone.describe_index(\"testindex\")"
   ]
  },
  {
   "cell_type": "code",
   "execution_count": null,
   "metadata": {},
   "outputs": [],
   "source": [
    "# Provides data about indexes like total vector count, fullness, namespace\n",
    "output1 = pinecone.describe_index_stats(\"testindex\")\n",
    "output2 = pinecone.describe_index_stats(\"myfirstpod\")\n",
    "\n",
    "print(output1)\n",
    "print(output2)"
   ]
  },
  {
   "cell_type": "code",
   "execution_count": null,
   "metadata": {},
   "outputs": [],
   "source": [
    "# Delete the index\n",
    "pinecone.delete_index(\"testindex\", 10)"
   ]
  },
  {
   "cell_type": "code",
   "execution_count": null,
   "metadata": {},
   "outputs": [],
   "source": [
    "# Delete the index\n",
    "pinecone.delete_index(\"myfirstpod\")"
   ]
  },
  {
   "cell_type": "code",
   "execution_count": null,
   "metadata": {},
   "outputs": [],
   "source": [
    "# Call `__repr__` method\n",
    "repr(pinecone)"
   ]
  },
  {
   "cell_type": "code",
   "execution_count": null,
   "metadata": {},
   "outputs": [],
   "source": [
    "# Load Documents from Wikipedia and splitt int Document objects\n",
    "document = WikipediaLoader(query=\"HUNTER X HUNTER\", load_max_docs=2).load()\n",
    "\n",
    "document2 = WikipediaLoader(query=\"Sword Art Online\", load_max_docs=2).load()\n",
    "\n",
    "text_splitter = RecursiveCharacterTextSplitter(\n",
    "    # Set a really small chunk size, just to show.\n",
    "    chunk_size=100,\n",
    "    chunk_overlap=20,\n",
    "    length_function=len,\n",
    "    is_separator_regex=False,\n",
    ")\n",
    "\n",
    "documents = text_splitter.create_documents(\n",
    "    texts=[document[0].page_content], metadatas=[document[0].metadata]\n",
    ")\n",
    "documents2 = text_splitter.create_documents(\n",
    "    texts=[document2[0].page_content], metadatas=[document2[0].metadata]\n",
    ")"
   ]
  },
  {
   "cell_type": "code",
   "execution_count": null,
   "metadata": {},
   "outputs": [],
   "source": [
    "# Adds list of Document Objects (Note, wraps add_text method which is more grannular and has more options) Using the namespace logically divide the index, but you CANNOT search across Vector Store.\n",
    "\n",
    "# id1 = vectorstore1.add_documents(documents, namespace=\"sao\")\n",
    "# id2 = vectorstore2.add_documents(documents2, namespace=\"hxh\")"
   ]
  },
  {
   "cell_type": "code",
   "execution_count": null,
   "metadata": {},
   "outputs": [],
   "source": [
    "# This is adding a list of documents. This is an example of using metadata. Extra metadata needs to be added to documents[0].metadata\n",
    "\n",
    "# id1 = vectorstore1.add_documents(documents)\n",
    "id2 = vectorstore1.add_documents(documents)"
   ]
  },
  {
   "cell_type": "code",
   "execution_count": null,
   "metadata": {},
   "outputs": [],
   "source": [
    "# Basic Similarity Search\n",
    "docsearch_basic = vectorstore1.similarity_search(\n",
    "    \"anime\",\n",
    ")\n",
    "docsearch_basic"
   ]
  },
  {
   "cell_type": "code",
   "execution_count": null,
   "metadata": {},
   "outputs": [],
   "source": [
    "# Search with Score\n",
    "# Return pinecone documents most similar to query, along with scores.\n",
    "docsearch_score = vectorstore1.similarity_search_with_score(\"anime\")\n",
    "docsearch_score"
   ]
  },
  {
   "cell_type": "code",
   "execution_count": null,
   "metadata": {},
   "outputs": [],
   "source": [
    "search_relevance_score = vectorstore2.similarity_search_with_relevance_scores(\n",
    "    \"What is HunterXHunter?\"\n",
    ")\n",
    "search_relevance_score"
   ]
  },
  {
   "cell_type": "code",
   "execution_count": null,
   "metadata": {},
   "outputs": [],
   "source": [
    "# Return VectorStoreRetriever initialized from this VectorStore.\n",
    "retriever = vectorstore1.as_retriever(\n",
    "    search_type=\"mmr\", search_kwargs={\"lambda_mult\": 0.75}\n",
    ")\n",
    "# retriever = vectorstore1.as_retriever(search_type = \"similarity\",search_kwargs={\"k\":1})\n",
    "output = retriever.invoke(\"What is hunter x hunter?\")\n",
    "output"
   ]
  },
  {
   "cell_type": "code",
   "execution_count": null,
   "metadata": {},
   "outputs": [],
   "source": [
    "title = documents[0].metadata[\"title\"]\n",
    "source = documents[0].metadata[\"source\"]\n",
    "\n",
    "documents[0].metadata = {\n",
    "    \"title\": title,\n",
    "    \"source\": source,\n",
    "    \"genre\": \"anime\",\n",
    "    \"season\": \"Spring 2010\",\n",
    "}"
   ]
  },
  {
   "cell_type": "code",
   "execution_count": null,
   "metadata": {},
   "outputs": [],
   "source": [
    "from pprint import pprint as pp\n",
    "\n",
    "pp(documents[0].metadata)"
   ]
  },
  {
   "cell_type": "code",
   "execution_count": null,
   "metadata": {},
   "outputs": [],
   "source": [
    "# Metadata filtering\n",
    "retriever = vectorstore1.as_retriever(\n",
    "    search_kwargs={\"filter\": {\"genre\": \"Spring 2010\"}}\n",
    ")\n",
    "output = retriever.invoke(\"Who is Kirito?\")\n",
    "output"
   ]
  },
  {
   "cell_type": "code",
   "execution_count": null,
   "metadata": {},
   "outputs": [],
   "source": [
    "from schema import IndexList, IndexStatus, Pod, Severless, IndexesResponse\n",
    "\n",
    "_index = IndexList(\n",
    "    name=\"semantic-search\",\n",
    "    dimension=384,\n",
    "    metric=\"cosine\",\n",
    "    host=\"semantic-search-c01b5b5.svc.us-west1-gcp.pinecone.io\",\n",
    "    status=IndexStatus(ready=True, state=\"Ready\"),\n",
    "    spec=Pod(\n",
    "        environment=\"us-west1-gcp\", replicas=2, shards=2, pod_type=\"p1.x1\", pods=4\n",
    "    ),\n",
    ")\n",
    "\n",
    "index = IndexesResponse(indexes=[_index])\n",
    "index.model_dump_json()"
   ]
  }
 ],
 "metadata": {
  "kernelspec": {
   "display_name": "rag_testing_py3.11.7",
   "language": "python",
   "name": "python3"
  },
  "language_info": {
   "codemirror_mode": {
    "name": "ipython",
    "version": 3
   },
   "file_extension": ".py",
   "mimetype": "text/x-python",
   "name": "python",
   "nbconvert_exporter": "python",
   "pygments_lexer": "ipython3",
   "version": "3.11.7"
  }
 },
 "nbformat": 4,
 "nbformat_minor": 2
}
